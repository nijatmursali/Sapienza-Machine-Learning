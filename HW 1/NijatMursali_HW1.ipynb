{
 "cells": [
  {
   "cell_type": "markdown",
   "metadata": {},
   "source": [
    "# Insert Libraries"
   ]
  },
  {
   "cell_type": "code",
   "execution_count": 1,
   "metadata": {
    "pycharm": {
     "is_executing": false
    }
   },
   "outputs": [],
   "source": [
    "import jsonlines\n",
    "import io\n",
    "import numpy as np\n",
    "from klepto.archives import file_archive as FileArchive\n",
    "import random"
   ]
  },
  {
   "cell_type": "markdown",
   "metadata": {},
   "source": [
    "# Insert sklearn libraries"
   ]
  },
  {
   "cell_type": "code",
   "execution_count": 2,
   "metadata": {
    "pycharm": {
     "is_executing": false
    }
   },
   "outputs": [],
   "source": [
    "import sklearn.metrics \n",
    "from sklearn import datasets\n",
    "from sklearn.model_selection import train_test_split, cross_val_score, ShuffleSplit, GridSearchCV\n",
    "from sklearn import svm\n",
    "from sklearn.tree import DecisionTreeClassifier\n",
    "from sklearn import metrics\n",
    "from sklearn.naive_bayes import GaussianNB\n",
    "from sklearn.linear_model import LogisticRegression\n",
    "from sklearn.metrics import classification_report, confusion_matrix\n",
    "from sklearn.utils.multiclass import unique_labels\n",
    "from sklearn.decomposition import PCA"
   ]
  },
  {
   "cell_type": "markdown",
   "metadata": {},
   "source": [
    "# Insert matplotlib"
   ]
  },
  {
   "cell_type": "code",
   "execution_count": 3,
   "metadata": {
    "pycharm": {
     "is_executing": false
    }
   },
   "outputs": [],
   "source": [
    "import matplotlib.pyplot as plt\n",
    "from mlxtend.plotting import plot_decision_regions"
   ]
  },
  {
   "cell_type": "markdown",
   "metadata": {},
   "source": [
    "# Feature Extraction"
   ]
  },
  {
   "cell_type": "code",
   "execution_count": 4,
   "metadata": {
    "pycharm": {
     "is_executing": false
    }
   },
   "outputs": [
    {
     "name": "stdout",
     "text": [
      "Features done!\n"
     ],
     "output_type": "stream"
    }
   ],
   "source": [
    "FeaturesContain=['NoInstruc','Nocalls','NoStoreData','NoLogicalComp','NoTransFun','NoComp','NoArimFun']\n",
    " \n",
    "NoCallsValue=0\n",
    "NoInstrucValue=0\n",
    "NoStoreDataValue=0\n",
    "NoLogicalCompValue=0\n",
    "NoTransFunValue=0\n",
    "NoCompValue=0\n",
    "NoArimFunValue=0\n",
    "\n",
    "NameofFeatures={'Nocalls':NoCallsValue,'NoInstruc':NoInstrucValue,'NoStoreData':NoStoreDataValue,'NoLogicalComp':NoLogicalCompValue,'NoTransFun':NoTransFunValue,'NoComp':NoCompValue,'NoArimFun':NoArimFunValue}\n",
    "NameofOPTs={'H':1,'L':0}\n",
    "NameofCompilers={'icc':0,'clang':1,'gcc':2}\n",
    "\n",
    "\n",
    "def Nocalls():\n",
    "    NameofFeatures['Nocalls']+=1\n",
    "def NoStoreData():\n",
    "    NameofFeatures['NoStoreData']+=1\n",
    "def NoLogicalComp():\n",
    "    NameofFeatures['NoLogicalComp']+=1\n",
    "def NoTransFun():\n",
    "    NameofFeatures['NoTransFun']+=1\n",
    "def NoInstruc(l_instructions):\n",
    "    NameofFeatures['NoInstruc']=len(l_instructions)\n",
    "def NoComp():\n",
    "    NameofFeatures['NoComp']+=1\n",
    "def NoArimFun():\n",
    "    NameofFeatures['NoArimFun']+=1\n",
    "\n",
    "contentofFeatures={'call':Nocalls,'push':NoStoreData,   'test':NoLogicalComp,   'je':NoTransFun     ,'cmovae':NoComp    ,'sub':NoArimFun\n",
    "                         ,'mov':NoStoreData ,   'cmp':NoLogicalComp ,   'jmp':NoTransFun                        ,'add':NoArimFun\n",
    "                         ,'pop':NoStoreData ,   'xor':NoLogicalComp ,   'jne':NoTransFun                        ,'imul':NoArimFun\n",
    "                         ,'shl':NoStoreData                         ,   'ret':NoTransFun\n",
    "                         ,'lea':NoStoreData                         ,   'seta':NoTransFun\n",
    "                         ,'movsxd':NoStoreData                      ,   'jg':NoTransFun\n",
    "                         ,'movzx':NoStoreData  \n",
    "                         ,'movsxd':NoStoreData  \n",
    "          } \n",
    "nodefined=[]\n",
    "print('Features done!')"
   ]
  },
  {
   "cell_type": "code",
   "execution_count": 5,
   "metadata": {
    "pycharm": {
     "is_executing": false
    }
   },
   "outputs": [],
   "source": [
    "def FeatureSpecification(lengthofInstructions):\n",
    "    if lengthofInstructions[0] in contentofFeatures:\n",
    "        lengthofValues = contentofFeatures[lengthofInstructions[0]]()\n",
    "    else:\n",
    "        if lengthofInstructions[0] in nodefined:\n",
    "            pass\n",
    "        else:\n",
    "            pass\n",
    "\n"
   ]
  },
  {
   "cell_type": "code",
   "execution_count": 6,
   "metadata": {
    "pycharm": {
     "is_executing": false
    }
   },
   "outputs": [],
   "source": [
    "def Features(instructions):\n",
    "    lengthofInstructions = []\n",
    "    lengthofFeatures = dict()\n",
    "\n",
    "    for instruction in instructions['instructions']:\n",
    "        InstructionSplitting = instruction.split(' ')\n",
    "        lengthofInstructions.append(InstructionSplitting)\n",
    "        FeatureSpecification(InstructionSplitting)\n",
    "\n",
    "    NoInstruc(lengthofInstructions)\n",
    "    AppendFeatures = []\n",
    "    for xsf in FeaturesContain:\n",
    "        AppendFeatures.append(NameofFeatures[xsf])\n",
    "        NameofFeatures[xsf]=0\n",
    "    appendFeaturesData = np.array(AppendFeatures)\n",
    "    instructions['instructions'] = lengthofInstructions    \n",
    "    readFeatureData.append(appendFeaturesData)\n",
    "    instructions['features'] = lengthofFeatures\n",
    "    return instructions\n"
   ]
  },
  {
   "cell_type": "code",
   "execution_count": 7,
   "metadata": {
    "pycharm": {
     "is_executing": false
    }
   },
   "outputs": [
    {
     "name": "stdout",
     "text": [
      "JSON file reading done\n"
     ],
     "output_type": "stream"
    }
   ],
   "source": [
    "readInstructions=[]\n",
    "readFeatureData=[]\n",
    "readOPTs=[]\n",
    "readCompilers=[]\n",
    "with jsonlines.open(\"train_dataset.jsonl\") as reader: #open json file as reader\n",
    "    for _instructions in reader: #read every line of json file\n",
    "        readInstructions.append(Features(_instructions))\n",
    "        readOPTs.append(NameofOPTs[_instructions['opt']])\n",
    "        readCompilers.append(NameofCompilers[_instructions['compiler']])\n",
    "\n",
    "print('JSON file reading done')"
   ]
  },
  {
   "cell_type": "code",
   "execution_count": 8,
   "metadata": {
    "pycharm": {
     "is_executing": false
    }
   },
   "outputs": [],
   "source": [
    "db = FileArchive(\"FeatureExtraction.txt\")\n",
    "db['featuresnames']=FeaturesContain\n",
    "db['featuresdata']=readFeatureData\n",
    "db['opt']=readOPTs\n",
    "db['G_opt']=NameofOPTs\n",
    "db['compiler']=readCompilers\n",
    "db['G_compiler']=NameofCompilers\n",
    "db.dump()"
   ]
  },
  {
   "cell_type": "code",
   "execution_count": 9,
   "metadata": {
    "pycharm": {
     "is_executing": false
    }
   },
   "outputs": [],
   "source": [
    "db = FileArchive(\"FeatureExtraction.txt\")\n",
    "db.load()\n",
    "\n",
    "FeaturesContain = db['featuresnames']\n",
    "readFeatureData = db['featuresdata']\n",
    "opt = db['opt']        \n",
    "NameofOPTs = db['G_opt']      \n",
    "compiler = db['compiler']  \n",
    "NameofCompilers=db['G_compiler'] \n",
    "db.drop()"
   ]
  },
  {
   "cell_type": "code",
   "execution_count": 10,
   "metadata": {
    "pycharm": {
     "is_executing": false
    }
   },
   "outputs": [],
   "source": [
    "DB = datasets.load_iris()\n",
    "dataset_name = \"Iris\"\n",
    "DB = datasets.load_digits()\n",
    "dataset_name = \"Digits\"\n",
    "\n",
    "class_names = np.array(FeaturesContain)\n",
    "numberofSamples = 30000 \n",
    "kj = DB.data\n",
    "lp = DB.target\n",
    "X_all = np.array(readFeatureData[0:numberofSamples])\n",
    "y_all = np.array(opt[0:numberofSamples])\n"
   ]
  },
  {
   "cell_type": "code",
   "execution_count": 11,
   "metadata": {
    "pycharm": {
     "is_executing": false
    }
   },
   "outputs": [
    {
     "name": "stdout",
     "text": [
      "Number of attributes/features: 7\nNumber of samples: 20\n"
     ],
     "output_type": "stream"
    }
   ],
   "source": [
    "print(\"Number of attributes/features: %d\" %(X_all.shape[1]))\n",
    "print(\"Number of samples: %d\" %(X_all.shape[0]))"
   ]
  },
  {
   "cell_type": "markdown",
   "metadata": {},
   "source": [
    "# Splitting "
   ]
  },
  {
   "cell_type": "code",
   "execution_count": 12,
   "metadata": {
    "pycharm": {
     "is_executing": false
    }
   },
   "outputs": [
    {
     "name": "stdout",
     "text": [
      "Number of training set is: 14\nNumber of test set is: 6\n"
     ],
     "output_type": "stream"
    }
   ],
   "source": [
    "X_train, X_test, y_train, y_test = train_test_split(X_all, y_all, test_size=0.3, \n",
    "                                                    random_state=109)\n",
    "#splitted training=21000 and test of 9000\n",
    "print(\"Number of training set is: %d\" %X_train.shape[0])\n",
    "print(\"Number of test set is: %d\" %X_test.shape[0])\n"
   ]
  },
  {
   "cell_type": "markdown",
   "metadata": {},
   "source": [
    "# Implementing SVM "
   ]
  },
  {
   "cell_type": "code",
   "execution_count": 13,
   "metadata": {
    "pycharm": {
     "is_executing": false
    }
   },
   "outputs": [
    {
     "name": "stdout",
     "text": [
      "Accuracy:  0.3333333333333333\nPrecision:  0.3333333333333333\nRecall:  1.0\n\n\nDone with SVM\n"
     ],
     "output_type": "stream"
    }
   ],
   "source": [
    "model = svm.SVC(kernel='linear', probability=True, tol=0.001) #using sklearn implement svm\n",
    "model.fit(X_train, y_train) #fitting into model\n",
    "y_pred = model.predict(X_test) #predicting \n",
    "precisSVM = metrics.precision_score(y_test, y_pred) #finding precision value\n",
    "recallSVM = metrics.recall_score(y_test, y_pred) #finding recall value\n",
    "accurSVM = metrics.accuracy_score(y_test, y_pred) #finding accuracy value \n",
    "print(\"Accuracy: \", accurSVM)\n",
    "print(\"Precision: \", precisSVM)\n",
    "print(\"Recall: \", recallSVM)\n",
    "print('\\n')\n",
    "\n",
    "print('Done with SVM')"
   ]
  },
  {
   "cell_type": "markdown",
   "metadata": {},
   "source": [
    "# Plotting SVM"
   ]
  },
  {
   "cell_type": "code",
   "execution_count": 14,
   "metadata": {
    "pycharm": {
     "is_executing": false
    }
   },
   "outputs": [
    {
     "name": "stdout",
     "text": [
      "<class 'numpy.ndarray'>\n"
     ],
     "output_type": "stream"
    },
    {
     "data": {
      "text/plain": "<Figure size 432x288 with 1 Axes>",
      "image/png": "[encoded data removed]"
     },
     "metadata": {
      "needs_background": "light"
     },
     "output_type": "display_data"
    }
   ],
   "source": [
    "print(type(X_train))\n",
    "#plt.scatter(X_train[:, 0], X_train[:, 1],  c = y_train, s=40)\n",
    "clf = svm.SVC(C=30000,gamma=0.0001)\n",
    "pca = PCA(n_components = 2)\n",
    "X_train2 = pca.fit_transform(X_train)\n",
    "clf.fit(X_train2, y_train)\n",
    "plot_decision_regions(X_train2, y_train, clf=clf, legend=2)\n",
    "\n",
    "\n",
    "plt.title('SVM Decision Region Boundary', size=7)\n",
    "plt.show()"
   ]
  },
  {
   "cell_type": "markdown",
   "metadata": {},
   "source": [
    "# Implementing Decision Trees"
   ]
  },
  {
   "cell_type": "code",
   "execution_count": 15,
   "metadata": {
    "pycharm": {
     "is_executing": false
    }
   },
   "outputs": [
    {
     "name": "stdout",
     "text": [
      "Accuracy for Decision Tree:  0.5\nPrecision for Decision Tree:  0.4\nRecall for Decision Tree:  1.0\n"
     ],
     "output_type": "stream"
    }
   ],
   "source": [
    "decTreeClass = DecisionTreeClassifier()\n",
    "decTreeClass = decTreeClass.fit(X_train, y_train)\n",
    "\n",
    "y_predDecisionTree = decTreeClass.predict(X_test)\n",
    "print(\"Accuracy for Decision Tree: \", metrics.accuracy_score(y_test, y_predDecisionTree))\n",
    "print(\"Precision for Decision Tree: \", metrics.precision_score(y_test, y_predDecisionTree))\n",
    "print(\"Recall for Decision Tree: \", metrics.recall_score(y_test, y_predDecisionTree))"
   ]
  },
  {
   "cell_type": "code",
   "execution_count": 15,
   "metadata": {
    "pycharm": {
     "is_executing": false
    }
   },
   "outputs": [],
   "source": []
  }
 ],
 "metadata": {
  "kernelspec": {
   "display_name": "Python 3",
   "language": "python",
   "name": "python3"
  },
  "language_info": {
   "codemirror_mode": {
    "name": "ipython",
    "version": 3
   },
   "file_extension": ".py",
   "mimetype": "text/x-python",
   "name": "python",
   "nbconvert_exporter": "python",
   "pygments_lexer": "ipython3",
   "version": "3.6.8"
  },
  "pycharm": {
   "stem_cell": {
    "cell_type": "raw",
    "source": [],
    "metadata": {
     "collapsed": false
    }
   }
  }
 },
 "nbformat": 4,
 "nbformat_minor": 2
}